{
 "cells": [
  {
   "cell_type": "code",
   "execution_count": 4,
   "metadata": {},
   "outputs": [
    {
     "name": "stdout",
     "output_type": "stream",
     "text": [
      "Say something!\n",
      "Google Speech Recognition thinks you said something something something\n"
     ]
    }
   ],
   "source": [
    "#!/usr/bin/env python3\n",
    "\n",
    "# NOTE: this example requires PyAudio because it uses the Microphone class\n",
    "\n",
    "import speech_recognition as sr\n",
    "\n",
    "# obtain audio from the microphone\n",
    "r = sr.Recognizer()\n",
    "with sr.Microphone() as source:\n",
    "    print(\"Say something!\")\n",
    "    audio = r.listen(source)\n",
    "\n",
    "# write audio to a RAW file\n",
    "with open(\"microphone-results.raw\", \"wb\") as f:\n",
    "    f.write(audio.get_raw_data())\n",
    "\n",
    "# write audio to a WAV file\n",
    "with open(\"microphone-results.wav\", \"wb\") as f:\n",
    "    f.write(audio.get_wav_data())\n",
    "\n",
    "# write audio to an AIFF file\n",
    "with open(\"microphone-results.aiff\", \"wb\") as f:\n",
    "    f.write(audio.get_aiff_data())\n",
    "\n",
    "# write audio to a FLAC file\n",
    "with open(\"microphone-results.flac\", \"wb\") as f:\n",
    "    f.write(audio.get_flac_data())\n",
    "    \n",
    "# recognize speech using Google Speech Recognition\n",
    "try:\n",
    "    # for testing purposes, we're just using the default API key\n",
    "    # to use another API key, use `r.recognize_google(audio, key=\"GOOGLE_SPEECH_RECOGNITION_API_KEY\")`\n",
    "    # instead of `r.recognize_google(audio)`\n",
    "    print(\"Google Speech Recognition thinks you said \" + r.recognize_google(audio))\n",
    "except sr.UnknownValueError:\n",
    "    print(\"Google Speech Recognition could not understand audio\")\n",
    "except sr.RequestError as e:\n",
    "    print(\"Could not request results from Google Speech Recognition service; {0}\".format(e))"
   ]
  },
  {
   "cell_type": "code",
   "execution_count": 26,
   "metadata": {},
   "outputs": [],
   "source": [
    "import numpy as np\n",
    "\n",
    "def process_command(command):\n",
    "    words = np.array(command.split(' '))\n",
    "\n",
    "    ident = ''\n",
    "    action = 0\n",
    "    \n",
    "    if 'read' in words and 'recipe' in words:\n",
    "        #action 1 means read the recipe\n",
    "        action = 1\n",
    "        ind = np.where(words == 'recipe')[0]\n",
    "        if ind < len(words):\n",
    "            ident = words[ind+1][0]\n",
    "    elif 'read' in words and 'instruction' in words:\n",
    "        #action 2 means read the instruction\n",
    "        action = 2\n",
    "        ind = np.where(words == 'instruction')[0]\n",
    "        if ind < len(words):\n",
    "            ident = words[ind+1][0]\n",
    "    elif 'stop' in words:\n",
    "        #action 3 means stop\n",
    "        action = 3\n",
    "    elif 'repeat' in words:\n",
    "        #action 4 means repeat recipe or instruction\n",
    "        action = 4\n",
    "    else:\n",
    "        #action 5 means dont understand - help the user with instructions\n",
    "        action = 5\n",
    "    \n",
    "    \n",
    "    return action, ident"
   ]
  },
  {
   "cell_type": "code",
   "execution_count": 27,
   "metadata": {},
   "outputs": [
    {
     "data": {
      "text/plain": [
       "(2, 'x')"
      ]
     },
     "execution_count": 27,
     "metadata": {},
     "output_type": "execute_result"
    }
   ],
   "source": [
    "process_command('read instruction x')"
   ]
  },
  {
   "cell_type": "code",
   "execution_count": null,
   "metadata": {},
   "outputs": [],
   "source": [
    "245capr1R1: 4.8591\n",
    "261capr2R1: 6.7243 - undercooked slightly\n",
    "263 1.79 - undercooked\n",
    "264 5.9170 fine\n",
    "265 5.5171 fine\n",
    "\n",
    "    \n",
    "\n",
    "###\n",
    "265 0.898\n",
    "264 0.898\n",
    "263 0.898\n",
    "261 4.49\n",
    "245 1.347\n",
    "244 1.078\n"
   ]
  }
 ],
 "metadata": {
  "kernelspec": {
   "display_name": "Python 3",
   "language": "python",
   "name": "python3"
  },
  "language_info": {
   "codemirror_mode": {
    "name": "ipython",
    "version": 3
   },
   "file_extension": ".py",
   "mimetype": "text/x-python",
   "name": "python",
   "nbconvert_exporter": "python",
   "pygments_lexer": "ipython3",
   "version": "3.6.8"
  }
 },
 "nbformat": 4,
 "nbformat_minor": 2
}
