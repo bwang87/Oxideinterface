{
 "cells": [
  {
   "cell_type": "code",
   "execution_count": 22,
   "metadata": {},
   "outputs": [],
   "source": [
    "import speech_recognition as sr\n",
    "import numpy as np\n",
    "import time\n",
    "import pyttsx3\n",
    "\n",
    "# parameters for listening\n",
    "dB_threshold = 10000\n",
    "t_wait = 1    # in seconds\n",
    "\n",
    "\n",
    "def listen_command(threshold=dB_threshold, t_timeout=t_wait):\n",
    "    \"\"\" () -> str or False\n",
    "    Return the command the program listens. Return False if failed to listen/understand.\n",
    "    \"\"\"\n",
    "    r = sr.Recognizer()\n",
    "    r.dynamic_energy_threshold = threshold    # high threshold so that program only responds to large voice\n",
    "    print(\"Listening...\")\n",
    "    # starts listening once threshold reached -> stops listening when quiet\n",
    "    with sr.Microphone() as source:\n",
    "        audio = r.listen(source, timeout=t_timeout)\n",
    "    try:\n",
    "        return r.recognize_google(audio).lower()\n",
    "    except sr.UnknownValueError or sr.RequestError:\n",
    "        return False"
   ]
  },
  {
   "cell_type": "code",
   "execution_count": 13,
   "metadata": {},
   "outputs": [],
   "source": [
    "def process_command(command):\n",
    "    words = np.array(command.split(' '))\n",
    "\n",
    "    ident = ''\n",
    "    action = 0\n",
    "    \n",
    "    if 'read' in words and 'recipe' in words:\n",
    "        #action 1 means read the recipe\n",
    "        action = 1\n",
    "        ind = np.where(words == 'recipe')[0]\n",
    "        if ind < len(words):\n",
    "            ident = words[ind+1][0]\n",
    "    elif 'next' in words:\n",
    "        #action 2 means read the instruction\n",
    "        action = 2\n",
    "#         ind = np.where(words == 'instruction')[0]\n",
    "#         if ind < len(words):\n",
    "#             ident = words[ind+1][0]\n",
    "    elif 'stop' in words:\n",
    "        #action 3 means stop\n",
    "        action = 3\n",
    "    elif 'repeat' in words:\n",
    "        #action 4 means repeat recipe or instruction\n",
    "        action = 4\n",
    "    elif 'ingredient' in words:\n",
    "        #fetch the ingredient\n",
    "        ind = np.where(words == 'ingredient')[0]\n",
    "        if ind < len(words):\n",
    "            ident = words[ind+1][0]\n",
    "        action = 5\n",
    "    else:\n",
    "        #action 6 means dont understand - help the user with instructions\n",
    "        action = 6\n",
    "    \n",
    "    \n",
    "    return action, ident"
   ]
  },
  {
   "cell_type": "code",
   "execution_count": 8,
   "metadata": {},
   "outputs": [
    {
     "name": "stdout",
     "output_type": "stream",
     "text": [
      "Listening...\n",
      "Command: read recipe 1\n"
     ]
    },
    {
     "data": {
      "text/plain": [
       "(1, '1')"
      ]
     },
     "execution_count": 8,
     "metadata": {},
     "output_type": "execute_result"
    }
   ],
   "source": [
    "######## TEST BLOCK ########\n",
    "command = str(listen_command())\n",
    "print('Command: '+ command) \n",
    "process_command(command)"
   ]
  },
  {
   "cell_type": "code",
   "execution_count": 18,
   "metadata": {},
   "outputs": [],
   "source": [
    "idle = 1000\n",
    "def listen(wake_word, t_wait=idle):\n",
    "    waiting = True\n",
    "    start = time.time()\n",
    "    \n",
    "    while waiting and time.time()-start < t_wait:\n",
    "        words = str(listen_command()).split(' ')\n",
    "        if wake_word in words:\n",
    "            waiting = False\n",
    "    \n",
    "    return True"
   ]
  },
  {
   "cell_type": "code",
   "execution_count": 15,
   "metadata": {},
   "outputs": [
    {
     "name": "stdout",
     "output_type": "stream",
     "text": [
      "Listening...\n",
      "Listening...\n",
      "True\n"
     ]
    }
   ],
   "source": [
    "######## TEST BLOCK ########\n",
    "print(listen('hello'))"
   ]
  },
  {
   "cell_type": "code",
   "execution_count": 16,
   "metadata": {},
   "outputs": [],
   "source": [
    "def activate(wake_word, instruction_book, ingredient_book):\n",
    "    active = listen(wake_word)\n",
    "    engine = pyttsx3.init()\n",
    "    \n",
    "    #machine need to tell user what to do\n",
    "    welcome = 'what is up'\n",
    "    engine.say(welcome)\n",
    "    engine.runAndWait()\n",
    "    \n",
    "    #in\n",
    "    recipe_id = ''\n",
    "    ingredient_itr = 0\n",
    "    instruction_itr = 0\n",
    "\n",
    "    while active:\n",
    "        command = str(listen_command())\n",
    "        print('Command: '+ command)\n",
    "        action, ident = process_command(command)\n",
    "        \n",
    "        #action 1: read the recipe\n",
    "        if action == 1:\n",
    "            if ident == '': # no recipe indicated in the instruction\n",
    "                engine.say('expected recipe name right after recipe word')\n",
    "                engine.runAndWait()\n",
    "                break;\n",
    "            # now, recipe is provided: identify the relevant instructions & ingredients\n",
    "            recipe_id = ident\n",
    "            instructions = instruction_book[ident] # this is a list of instructions\n",
    "            ingredients = ingredient_book[ident]   # this is a dictionary of ingredients\n",
    "\n",
    "            # make a list of ingredient keys\n",
    "            L_ingredient_key = [*ingredients]\n",
    "            \n",
    "            #speak the ingredients\n",
    "            key = L_ingredient_key[ingrediet_itr]\n",
    "            engine.say(key+','+ingredients[key])\n",
    "            ingredient_itr += 1\n",
    "            engine.runAndWait()\n",
    "\n",
    "            #speak the first instruction\n",
    "            \n",
    "            \n",
    "        elif action == 2:\n",
    "            if ingredient_itr < len(ingredients.keys()):\n",
    "                key = L_ingredient_key[ingredient_itr]\n",
    "                ingredient_itr += 1\n",
    "\n",
    "                engine.say(key+','+ingredient[key])\n",
    "                engine.runAndWait()\n",
    "            elif instruction_itr < len(instructions):\n",
    "                instruction_itr += 1\n",
    "\n",
    "                engine.say(instructions[instruction_itr])\n",
    "                engine.runAndWait()\n",
    "            else:\n",
    "                farewell = 'you done brother'\n",
    "                engine.say(farewell)\n",
    "                engine.runAndWait()\n",
    "                active = False\n",
    "\n",
    "            \n",
    "            \n",
    "        elif action == 3:\n",
    "            engine.say('Stopped')\n",
    "            engine.runAndWait()\n",
    "            if listen(wake_word):\n",
    "                engine.say('I am back')\n",
    "                engine.runAndWait()\n",
    "            \n",
    "\n",
    "        elif action == 4: \n",
    "            if ingredient_itr < len(ingredients.keys())+1:\n",
    "                key = L_ingredient_key[ingredient_itr-1]\n",
    "                engine.say(key+','+ingredient[key])\n",
    "                engine.runAndWait()\n",
    "\n",
    "            else:\n",
    "                engine.say(instructions[instruction_itr-1])\n",
    "                engine.runAndWait()\n",
    "            \n",
    "\n",
    "        elif action == 5: \n",
    "            if ident == '':\n",
    "                engine.say('expected recipe name right after recipe word')\n",
    "                engine.runAndWait()\n",
    "                break;\n",
    "            \n",
    "            key = ident\n",
    "            engine.say(key+','+ingredients[key])\n",
    "            engine.runAndWait()\n",
    "            \n",
    "\n",
    "        elif action == 6:\n",
    "            \n",
    "            confused = 'I do not understand'\n",
    "            engine.say(confused)\n",
    "            engine.runAndWait()\n",
    "            \n",
    "            \n",
    "\n",
    "        "
   ]
  },
  {
   "cell_type": "code",
   "execution_count": 21,
   "metadata": {},
   "outputs": [
    {
     "name": "stdout",
     "output_type": "stream",
     "text": [
      "Listening...\n"
     ]
    },
    {
     "ename": "KeyboardInterrupt",
     "evalue": "",
     "output_type": "error",
     "traceback": [
      "\u001b[1;31m---------------------------------------------------------------------------\u001b[0m",
      "\u001b[1;31mKeyboardInterrupt\u001b[0m                         Traceback (most recent call last)",
      "\u001b[1;32m<ipython-input-21-d3e442254347>\u001b[0m in \u001b[0;36m<module>\u001b[1;34m\u001b[0m\n\u001b[0;32m      2\u001b[0m \u001b[0minstruction_book\u001b[0m \u001b[1;33m=\u001b[0m \u001b[1;33m{\u001b[0m\u001b[1;34m'apple'\u001b[0m\u001b[1;33m:\u001b[0m \u001b[1;33m[\u001b[0m\u001b[1;34m'first do this'\u001b[0m\u001b[1;33m,\u001b[0m \u001b[1;34m'pour the water'\u001b[0m\u001b[1;33m,\u001b[0m \u001b[1;34m'lift the handle'\u001b[0m\u001b[1;33m,\u001b[0m \u001b[1;34m'stir'\u001b[0m\u001b[1;33m]\u001b[0m\u001b[1;33m}\u001b[0m\u001b[1;33m\u001b[0m\u001b[1;33m\u001b[0m\u001b[0m\n\u001b[0;32m      3\u001b[0m \u001b[0mingredient_book\u001b[0m \u001b[1;33m=\u001b[0m \u001b[1;33m{\u001b[0m\u001b[1;34m'apple'\u001b[0m\u001b[1;33m:\u001b[0m \u001b[1;33m{\u001b[0m\u001b[1;34m'eggs'\u001b[0m\u001b[1;33m:\u001b[0m \u001b[1;34m'1'\u001b[0m\u001b[1;33m,\u001b[0m \u001b[1;34m'beans'\u001b[0m\u001b[1;33m:\u001b[0m \u001b[1;34m'2 pounds'\u001b[0m\u001b[1;33m,\u001b[0m \u001b[1;34m'jello'\u001b[0m\u001b[1;33m:\u001b[0m \u001b[1;34m'1 packet'\u001b[0m\u001b[1;33m}\u001b[0m\u001b[1;33m}\u001b[0m\u001b[1;33m\u001b[0m\u001b[1;33m\u001b[0m\u001b[0m\n\u001b[1;32m----> 4\u001b[1;33m \u001b[0mactivate\u001b[0m\u001b[1;33m(\u001b[0m\u001b[1;34m'hello'\u001b[0m\u001b[1;33m,\u001b[0m \u001b[0minstruction_book\u001b[0m\u001b[1;33m,\u001b[0m \u001b[0mingredient_book\u001b[0m\u001b[1;33m)\u001b[0m\u001b[1;33m\u001b[0m\u001b[1;33m\u001b[0m\u001b[0m\n\u001b[0m",
      "\u001b[1;32m<ipython-input-16-7a866515bcdc>\u001b[0m in \u001b[0;36mactivate\u001b[1;34m(wake_word, instruction_book, ingredient_book)\u001b[0m\n\u001b[0;32m      1\u001b[0m \u001b[1;32mdef\u001b[0m \u001b[0mactivate\u001b[0m\u001b[1;33m(\u001b[0m\u001b[0mwake_word\u001b[0m\u001b[1;33m,\u001b[0m \u001b[0minstruction_book\u001b[0m\u001b[1;33m,\u001b[0m \u001b[0mingredient_book\u001b[0m\u001b[1;33m)\u001b[0m\u001b[1;33m:\u001b[0m\u001b[1;33m\u001b[0m\u001b[1;33m\u001b[0m\u001b[0m\n\u001b[1;32m----> 2\u001b[1;33m     \u001b[0mactive\u001b[0m \u001b[1;33m=\u001b[0m \u001b[0mlisten\u001b[0m\u001b[1;33m(\u001b[0m\u001b[0mwake_word\u001b[0m\u001b[1;33m)\u001b[0m\u001b[1;33m\u001b[0m\u001b[1;33m\u001b[0m\u001b[0m\n\u001b[0m\u001b[0;32m      3\u001b[0m     \u001b[0mengine\u001b[0m \u001b[1;33m=\u001b[0m \u001b[0mpyttsx3\u001b[0m\u001b[1;33m.\u001b[0m\u001b[0minit\u001b[0m\u001b[1;33m(\u001b[0m\u001b[1;33m)\u001b[0m\u001b[1;33m\u001b[0m\u001b[1;33m\u001b[0m\u001b[0m\n\u001b[0;32m      4\u001b[0m \u001b[1;33m\u001b[0m\u001b[0m\n\u001b[0;32m      5\u001b[0m     \u001b[1;31m#machine need to tell user what to do\u001b[0m\u001b[1;33m\u001b[0m\u001b[1;33m\u001b[0m\u001b[1;33m\u001b[0m\u001b[0m\n",
      "\u001b[1;32m<ipython-input-18-937b9e011618>\u001b[0m in \u001b[0;36mlisten\u001b[1;34m(wake_word, t_wait)\u001b[0m\n\u001b[0;32m      5\u001b[0m \u001b[1;33m\u001b[0m\u001b[0m\n\u001b[0;32m      6\u001b[0m     \u001b[1;32mwhile\u001b[0m \u001b[0mwaiting\u001b[0m \u001b[1;32mand\u001b[0m \u001b[0mtime\u001b[0m\u001b[1;33m.\u001b[0m\u001b[0mtime\u001b[0m\u001b[1;33m(\u001b[0m\u001b[1;33m)\u001b[0m\u001b[1;33m-\u001b[0m\u001b[0mstart\u001b[0m \u001b[1;33m<\u001b[0m \u001b[0mt_wait\u001b[0m\u001b[1;33m:\u001b[0m\u001b[1;33m\u001b[0m\u001b[1;33m\u001b[0m\u001b[0m\n\u001b[1;32m----> 7\u001b[1;33m         \u001b[0mwords\u001b[0m \u001b[1;33m=\u001b[0m \u001b[0mstr\u001b[0m\u001b[1;33m(\u001b[0m\u001b[0mlisten_command\u001b[0m\u001b[1;33m(\u001b[0m\u001b[1;33m)\u001b[0m\u001b[1;33m)\u001b[0m\u001b[1;33m.\u001b[0m\u001b[0msplit\u001b[0m\u001b[1;33m(\u001b[0m\u001b[1;34m' '\u001b[0m\u001b[1;33m)\u001b[0m\u001b[1;33m\u001b[0m\u001b[1;33m\u001b[0m\u001b[0m\n\u001b[0m\u001b[0;32m      8\u001b[0m         \u001b[1;32mif\u001b[0m \u001b[0mwake_word\u001b[0m \u001b[1;32min\u001b[0m \u001b[0mwords\u001b[0m\u001b[1;33m:\u001b[0m\u001b[1;33m\u001b[0m\u001b[1;33m\u001b[0m\u001b[0m\n\u001b[0;32m      9\u001b[0m             \u001b[0mwaiting\u001b[0m \u001b[1;33m=\u001b[0m \u001b[1;32mFalse\u001b[0m\u001b[1;33m\u001b[0m\u001b[1;33m\u001b[0m\u001b[0m\n",
      "\u001b[1;32m<ipython-input-20-29a2b73893fc>\u001b[0m in \u001b[0;36mlisten_command\u001b[1;34m(threshold, t_timeout)\u001b[0m\n\u001b[0;32m     18\u001b[0m     \u001b[1;31m# starts listening once threshold reached -> stops listening when quiet\u001b[0m\u001b[1;33m\u001b[0m\u001b[1;33m\u001b[0m\u001b[1;33m\u001b[0m\u001b[0m\n\u001b[0;32m     19\u001b[0m     \u001b[1;32mwith\u001b[0m \u001b[0msr\u001b[0m\u001b[1;33m.\u001b[0m\u001b[0mMicrophone\u001b[0m\u001b[1;33m(\u001b[0m\u001b[1;33m)\u001b[0m \u001b[1;32mas\u001b[0m \u001b[0msource\u001b[0m\u001b[1;33m:\u001b[0m\u001b[1;33m\u001b[0m\u001b[1;33m\u001b[0m\u001b[0m\n\u001b[1;32m---> 20\u001b[1;33m         \u001b[0maudio\u001b[0m \u001b[1;33m=\u001b[0m \u001b[0mr\u001b[0m\u001b[1;33m.\u001b[0m\u001b[0mlisten\u001b[0m\u001b[1;33m(\u001b[0m\u001b[0msource\u001b[0m\u001b[1;33m,\u001b[0m \u001b[0mtimeout\u001b[0m\u001b[1;33m=\u001b[0m\u001b[0mt_timeout\u001b[0m\u001b[1;33m)\u001b[0m\u001b[1;33m\u001b[0m\u001b[1;33m\u001b[0m\u001b[0m\n\u001b[0m\u001b[0;32m     21\u001b[0m     \u001b[1;32mtry\u001b[0m\u001b[1;33m:\u001b[0m\u001b[1;33m\u001b[0m\u001b[1;33m\u001b[0m\u001b[0m\n\u001b[0;32m     22\u001b[0m         \u001b[1;32mreturn\u001b[0m \u001b[0mr\u001b[0m\u001b[1;33m.\u001b[0m\u001b[0mrecognize_google\u001b[0m\u001b[1;33m(\u001b[0m\u001b[0maudio\u001b[0m\u001b[1;33m)\u001b[0m\u001b[1;33m.\u001b[0m\u001b[0mlower\u001b[0m\u001b[1;33m(\u001b[0m\u001b[1;33m)\u001b[0m\u001b[1;33m\u001b[0m\u001b[1;33m\u001b[0m\u001b[0m\n",
      "\u001b[1;32m~\\Anaconda3\\lib\\site-packages\\speech_recognition\\__init__.py\u001b[0m in \u001b[0;36mlisten\u001b[1;34m(self, source, timeout, phrase_time_limit, snowboy_configuration)\u001b[0m\n\u001b[0;32m    650\u001b[0m                     \u001b[1;32mbreak\u001b[0m\u001b[1;33m\u001b[0m\u001b[1;33m\u001b[0m\u001b[0m\n\u001b[0;32m    651\u001b[0m \u001b[1;33m\u001b[0m\u001b[0m\n\u001b[1;32m--> 652\u001b[1;33m                 \u001b[0mbuffer\u001b[0m \u001b[1;33m=\u001b[0m \u001b[0msource\u001b[0m\u001b[1;33m.\u001b[0m\u001b[0mstream\u001b[0m\u001b[1;33m.\u001b[0m\u001b[0mread\u001b[0m\u001b[1;33m(\u001b[0m\u001b[0msource\u001b[0m\u001b[1;33m.\u001b[0m\u001b[0mCHUNK\u001b[0m\u001b[1;33m)\u001b[0m\u001b[1;33m\u001b[0m\u001b[1;33m\u001b[0m\u001b[0m\n\u001b[0m\u001b[0;32m    653\u001b[0m                 \u001b[1;32mif\u001b[0m \u001b[0mlen\u001b[0m\u001b[1;33m(\u001b[0m\u001b[0mbuffer\u001b[0m\u001b[1;33m)\u001b[0m \u001b[1;33m==\u001b[0m \u001b[1;36m0\u001b[0m\u001b[1;33m:\u001b[0m \u001b[1;32mbreak\u001b[0m  \u001b[1;31m# reached end of the stream\u001b[0m\u001b[1;33m\u001b[0m\u001b[1;33m\u001b[0m\u001b[0m\n\u001b[0;32m    654\u001b[0m                 \u001b[0mframes\u001b[0m\u001b[1;33m.\u001b[0m\u001b[0mappend\u001b[0m\u001b[1;33m(\u001b[0m\u001b[0mbuffer\u001b[0m\u001b[1;33m)\u001b[0m\u001b[1;33m\u001b[0m\u001b[1;33m\u001b[0m\u001b[0m\n",
      "\u001b[1;32m~\\Anaconda3\\lib\\site-packages\\speech_recognition\\__init__.py\u001b[0m in \u001b[0;36mread\u001b[1;34m(self, size)\u001b[0m\n\u001b[0;32m    159\u001b[0m \u001b[1;33m\u001b[0m\u001b[0m\n\u001b[0;32m    160\u001b[0m         \u001b[1;32mdef\u001b[0m \u001b[0mread\u001b[0m\u001b[1;33m(\u001b[0m\u001b[0mself\u001b[0m\u001b[1;33m,\u001b[0m \u001b[0msize\u001b[0m\u001b[1;33m)\u001b[0m\u001b[1;33m:\u001b[0m\u001b[1;33m\u001b[0m\u001b[1;33m\u001b[0m\u001b[0m\n\u001b[1;32m--> 161\u001b[1;33m             \u001b[1;32mreturn\u001b[0m \u001b[0mself\u001b[0m\u001b[1;33m.\u001b[0m\u001b[0mpyaudio_stream\u001b[0m\u001b[1;33m.\u001b[0m\u001b[0mread\u001b[0m\u001b[1;33m(\u001b[0m\u001b[0msize\u001b[0m\u001b[1;33m,\u001b[0m \u001b[0mexception_on_overflow\u001b[0m\u001b[1;33m=\u001b[0m\u001b[1;32mFalse\u001b[0m\u001b[1;33m)\u001b[0m\u001b[1;33m\u001b[0m\u001b[1;33m\u001b[0m\u001b[0m\n\u001b[0m\u001b[0;32m    162\u001b[0m \u001b[1;33m\u001b[0m\u001b[0m\n\u001b[0;32m    163\u001b[0m         \u001b[1;32mdef\u001b[0m \u001b[0mclose\u001b[0m\u001b[1;33m(\u001b[0m\u001b[0mself\u001b[0m\u001b[1;33m)\u001b[0m\u001b[1;33m:\u001b[0m\u001b[1;33m\u001b[0m\u001b[1;33m\u001b[0m\u001b[0m\n",
      "\u001b[1;32m~\\Anaconda3\\lib\\site-packages\\pyaudio.py\u001b[0m in \u001b[0;36mread\u001b[1;34m(self, num_frames, exception_on_overflow)\u001b[0m\n\u001b[0;32m    606\u001b[0m                           paCanNotReadFromAnOutputOnlyStream)\n\u001b[0;32m    607\u001b[0m \u001b[1;33m\u001b[0m\u001b[0m\n\u001b[1;32m--> 608\u001b[1;33m         \u001b[1;32mreturn\u001b[0m \u001b[0mpa\u001b[0m\u001b[1;33m.\u001b[0m\u001b[0mread_stream\u001b[0m\u001b[1;33m(\u001b[0m\u001b[0mself\u001b[0m\u001b[1;33m.\u001b[0m\u001b[0m_stream\u001b[0m\u001b[1;33m,\u001b[0m \u001b[0mnum_frames\u001b[0m\u001b[1;33m,\u001b[0m \u001b[0mexception_on_overflow\u001b[0m\u001b[1;33m)\u001b[0m\u001b[1;33m\u001b[0m\u001b[1;33m\u001b[0m\u001b[0m\n\u001b[0m\u001b[0;32m    609\u001b[0m \u001b[1;33m\u001b[0m\u001b[0m\n\u001b[0;32m    610\u001b[0m     \u001b[1;32mdef\u001b[0m \u001b[0mget_read_available\u001b[0m\u001b[1;33m(\u001b[0m\u001b[0mself\u001b[0m\u001b[1;33m)\u001b[0m\u001b[1;33m:\u001b[0m\u001b[1;33m\u001b[0m\u001b[1;33m\u001b[0m\u001b[0m\n",
      "\u001b[1;31mKeyboardInterrupt\u001b[0m: "
     ]
    }
   ],
   "source": [
    "######## TEST BLOCK ########\n",
    "instruction_book = {'apple': ['first do this', 'pour the water', 'lift the handle', 'stir']}\n",
    "ingredient_book = {'apple': {'eggs': '1', 'beans': '2 pounds', 'jello': '1 packet'}}\n",
    "activate('hello', instruction_book, ingredient_book)"
   ]
  },
  {
   "cell_type": "code",
   "execution_count": 37,
   "metadata": {},
   "outputs": [],
   "source": [
    "instruction_book = {'apple': ['first do this', 'pour the water', 'lift the handle', 'stir']}\n",
    "ingredient_book = {'apple': {'eggs': '1', 'beans': '2 pounds', 'jello': '1 packet'}}\n",
    "a = ingredient_book['apple']"
   ]
  },
  {
   "cell_type": "code",
   "execution_count": 43,
   "metadata": {},
   "outputs": [
    {
     "name": "stdout",
     "output_type": "stream",
     "text": [
      "dict_keys(['eggs', 'beans', 'jello'])\n"
     ]
    }
   ],
   "source": [
    "print(a.keys())"
   ]
  },
  {
   "cell_type": "code",
   "execution_count": 10,
   "metadata": {},
   "outputs": [
    {
     "name": "stdout",
     "output_type": "stream",
     "text": [
      "['a', 'b', 'c']\n"
     ]
    }
   ],
   "source": [
    "d = {'a':1,'b':2,'c':3}\n",
    "print([*d])"
   ]
  },
  {
   "cell_type": "code",
   "execution_count": null,
   "metadata": {},
   "outputs": [],
   "source": []
  }
 ],
 "metadata": {
  "kernelspec": {
   "display_name": "Python 3",
   "language": "python",
   "name": "python3"
  },
  "language_info": {
   "codemirror_mode": {
    "name": "ipython",
    "version": 3
   },
   "file_extension": ".py",
   "mimetype": "text/x-python",
   "name": "python",
   "nbconvert_exporter": "python",
   "pygments_lexer": "ipython3",
   "version": "3.6.8"
  }
 },
 "nbformat": 4,
 "nbformat_minor": 2
}
