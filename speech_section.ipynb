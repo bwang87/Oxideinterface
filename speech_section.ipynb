{
 "cells": [
  {
   "cell_type": "code",
   "execution_count": 25,
   "metadata": {},
   "outputs": [],
   "source": [
    "import speech_recognition as sr\n",
    "\n",
    "# parameters for listening\n",
    "dB_threshold = 15000\n",
    "t_wait = 1    # in seconds\n",
    "\n",
    "\n",
    "def listen_command(threshold=dB_threshold, t_timeout=t_wait):\n",
    "    \"\"\" () -> str or False\n",
    "    Return the command the program listens. Return False if failed to listen/understand.\n",
    "    \"\"\"\n",
    "    r = sr.Recognizer()\n",
    "    r.dynamic_energy_threshold = threshold    # high threshold so that program only responds to large voice\n",
    "    print(\"Listening...\")\n",
    "    # starts listening once threshold reached -> stops listening when quiet\n",
    "    with sr.Microphone() as source:\n",
    "        audio = r.listen(source, timeout=t_timeout)\n",
    "    try:\n",
    "        return r.recognize_google(audio)\n",
    "    except sr.UnknownValueError or sr.RequestError:\n",
    "        return False"
   ]
  },
  {
   "cell_type": "code",
   "execution_count": 26,
   "metadata": {},
   "outputs": [
    {
     "name": "stdout",
     "output_type": "stream",
     "text": [
      "Listening...\n",
      "Command: I think the text from that recipe repeat last line\n"
     ]
    }
   ],
   "source": [
    "print('Command: '+str(listen_command())) "
   ]
  },
  {
   "cell_type": "code",
   "execution_count": null,
   "metadata": {},
   "outputs": [],
   "source": []
  }
 ],
 "metadata": {
  "kernelspec": {
   "display_name": "Python 3",
   "language": "python",
   "name": "python3"
  },
  "language_info": {
   "codemirror_mode": {
    "name": "ipython",
    "version": 3
   },
   "file_extension": ".py",
   "mimetype": "text/x-python",
   "name": "python",
   "nbconvert_exporter": "python",
   "pygments_lexer": "ipython3",
   "version": "3.7.4"
  }
 },
 "nbformat": 4,
 "nbformat_minor": 2
}
