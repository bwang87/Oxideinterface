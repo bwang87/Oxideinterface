{
 "cells": [
  {
   "cell_type": "code",
   "execution_count": 4,
   "metadata": {},
   "outputs": [],
   "source": [
    "from read_recipe import tokenizer\n",
    "\n",
    "ingredients, instructions = tokenizer('ratatouille')"
   ]
  },
  {
   "cell_type": "code",
   "execution_count": 5,
   "metadata": {},
   "outputs": [
    {
     "name": "stdout",
     "output_type": "stream",
     "text": [
      "{'olive': ' 5 tablespoons + 1 teaspoon extra-virgin olive oil, divided', 'orange': ' 1 large red, orange, or yellow bell pepper (about 8 ounces), cut into', 'red pepper': ' 14 teaspoon red pepper flakes, more or less to taste', 'black pepper': 'Freshly ground black pepper, to taste', 'garlic': ' 4 cloves garlic, pressed or minced', 'basil': ' 1/4 cup chopped fresh basil', 'olive oil': ' 5 tablespoons + 1 teaspoon extra-virgin olive oil, divided', 'oil': ' 5 tablespoons + 1 teaspoon extra-virgin olive oil, divided', 'pepper': 'Freshly ground black pepper, to taste', 'eggplant': ' 1 medium eggplant (1 pound), diced into 2-inch cubes', 'bell pepper': ' 1 large red, orange, or yellow bell pepper (about 8 ounces), cut into', 'zucchini': ' 1 medium-to-large zucchini (about 8 ounces), diced into 2-inch', 'clove': ' 4 cloves garlic, pressed or minced', 'egg': ' 1 medium eggplant (1 pound), diced into 2-inch cubes', 'tomato': ' 2 pounds ripe red tomatoes (6 medium or 4 large)', 'squash': ' 1 large yellow squash (about 8 ounces), diced into 2-inch cubes', 'salt': ' 34 teaspoon fine sea salt, divided, more to taste', 'onion': ' 1 medium yellow onion, chopped', 'oregano': ' 1/4 teaspoon dried oregano'}\n"
     ]
    }
   ],
   "source": [
    "print(ingredients)"
   ]
  },
  {
   "cell_type": "code",
   "execution_count": 6,
   "metadata": {},
   "outputs": [
    {
     "name": "stdout",
     "output_type": "stream",
     "text": [
      "['1. Preheat the oven to 425 degrees Fahrenheit with one rack in themiddle of the oven and one in the upper third of the oven. Line twolarge, rimmed baking sheets with parchment paper for easy clean-up, if desired.', '2. To prepare your tomatoes, remove any woody cores with a paringknife. Then, grate them on the large holes of a box grater into abowl (this is easiest if you hold the tomato at a diagonal), and chopany remaining tomato skin. Or, blitz the tomatoes in a foodprocessor until they are broken into a frothy pulp. Set aside.', '3. On one baking sheet, toss the diced eggplant with 2 tablespoons ofthe olive oil until lightly coated. Arrange the eggplant in a singlelayer across the pan, sprinkle with 4 teaspoon of the salt, and setaside.', '4. On the other baking sheet, toss the bell pepper, zucchini and yellowsquash with 1 tablespoon of olive oil and 4 teaspoon salt. Arrangethe vegetables in a single layer. Place the eggplant pan on themiddle rack and the other vegetables on the top rack. Set the timerfor 15 minutes.', '5. Meanwhile, warm 2 tablespoons of the olive oil in a large Dutchoven or soup pot over medium heat. Add the onion and 4 teaspoonsalt. Cook, stirring occasionally, until the onion is tender andcaramelizing on the edges, about 8 to 10 minutes.', '6. Add the garlic, stir, and cook until fragrant, about 30 seconds. Addthe tomatoes, and use a wooden spoon or sturdy silicone spatula tostir any browned bits stuck to the bottom of the pan into themixture. Reduce the heat to medium-low, or as necessary tomaintain a gentle simmer.', '7. Once 15 minutes are up, remove both pans from the oven, stir, andredistribute the contents of each evenly across the pans. This time,place the eggplant on the top rack and other vegetables on themiddle rack.', '8. Bake until the eggplant is nice and golden on the edges, about 10more minutes (the eggplant will be done sooner than the rest).Remove the eggplant from the oven, and carefully stir the eggplantinto the simmering tomato sauce.', \"9. Let the squash and bell pepper pan continue to bake until thepeppers are caramelized, about 5 to 10 more minutes. Then,transfer the contents of the pan into the simmering sauce. Continuesimmering for 5 more minutes to give the flavors time to meld.10. Remove the pot from the heat. Stir in 1 teaspoon olive oil, the freshbasil and red pepper flakes. Crumble the dried oregano betweenyour fingers as you drop it into the pot. Season to taste withadditional salt (I usually add 14 teaspoon more) and blackpepper.11. Serve in bowls, perhaps with a little drizzle of olive oil, additionalchopped basil, or black pepper on top (all optional). Like all stews,this ratatouille's flavor improves as it cools. It's even better reheatedthe next day. Ratatouille keeps well in the refrigerator, covered, for4 days, or for several months in the freezer.\"]\n"
     ]
    }
   ],
   "source": [
    "print(instructions)"
   ]
  },
  {
   "cell_type": "code",
   "execution_count": null,
   "metadata": {},
   "outputs": [],
   "source": []
  }
 ],
 "metadata": {
  "kernelspec": {
   "display_name": "Python 3",
   "language": "python",
   "name": "python3"
  },
  "language_info": {
   "codemirror_mode": {
    "name": "ipython",
    "version": 3
   },
   "file_extension": ".py",
   "mimetype": "text/x-python",
   "name": "python",
   "nbconvert_exporter": "python",
   "pygments_lexer": "ipython3",
   "version": "3.6.8"
  }
 },
 "nbformat": 4,
 "nbformat_minor": 2
}
