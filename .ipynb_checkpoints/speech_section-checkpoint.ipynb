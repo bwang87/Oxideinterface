{
 "cells": [
  {
   "cell_type": "code",
   "execution_count": 30,
   "metadata": {},
   "outputs": [],
   "source": [
    "import speech_recognition as sr\n",
    "import numpy as np\n",
    "import time\n",
    "import pyttsx3\n",
    "\n",
    "# parameters for listening\n",
    "dB_threshold = 15000\n",
    "t_wait = 1    # in seconds\n",
    "\n",
    "\n",
    "def listen_command(threshold=dB_threshold, t_timeout=t_wait):\n",
    "    \"\"\" () -> str or False\n",
    "    Return the command the program listens. Return False if failed to listen/understand.\n",
    "    \"\"\"\n",
    "    r = sr.Recognizer()\n",
    "    r.dynamic_energy_threshold = threshold    # high threshold so that program only responds to large voice\n",
    "    print(\"Listening...\")\n",
    "    # starts listening once threshold reached -> stops listening when quiet\n",
    "    with sr.Microphone() as source:\n",
    "        audio = r.listen(source, timeout=t_timeout)\n",
    "    try:\n",
    "        return r.recognize_google(audio).lower()\n",
    "    except sr.UnknownValueError or sr.RequestError:\n",
    "        return False"
   ]
  },
  {
   "cell_type": "code",
   "execution_count": 31,
   "metadata": {},
   "outputs": [],
   "source": [
    "def process_command(command):\n",
    "    words = np.array(command.split(' '))\n",
    "\n",
    "    ident = ''\n",
    "    action = 0\n",
    "    \n",
    "    if 'read' in words and 'recipe' in words:\n",
    "        #action 1 means read the recipe\n",
    "        action = 1\n",
    "        ind = np.where(words == 'recipe')[0]\n",
    "        if ind < len(words):\n",
    "            ident = words[ind+1][0]\n",
    "    elif 'next' in words:\n",
    "        #action 2 means read the instruction\n",
    "        action = 2\n",
    "#         ind = np.where(words == 'instruction')[0]\n",
    "#         if ind < len(words):\n",
    "#             ident = words[ind+1][0]\n",
    "    elif 'stop' in words:\n",
    "        #action 3 means stop\n",
    "        action = 3\n",
    "    elif 'repeat' in words:\n",
    "        #action 4 means repeat recipe or instruction\n",
    "        action = 4\n",
    "    elif 'ingredient' in words:\n",
    "        #fetch the ingredient\n",
    "        ind = np.where(words == 'ingredient')[0]\n",
    "        if ind < len(words):\n",
    "            ident = words[ind+1][0]\n",
    "        action = 5\n",
    "    else:\n",
    "        #action 6 means dont understand - help the user with instructions\n",
    "        action = 6\n",
    "    \n",
    "    \n",
    "    return action, ident"
   ]
  },
  {
   "cell_type": "code",
   "execution_count": 8,
   "metadata": {},
   "outputs": [
    {
     "name": "stdout",
     "output_type": "stream",
     "text": [
      "Listening...\n",
      "Command: read recipe 1\n"
     ]
    },
    {
     "data": {
      "text/plain": [
       "(1, '1')"
      ]
     },
     "execution_count": 8,
     "metadata": {},
     "output_type": "execute_result"
    }
   ],
   "source": [
    "command = str(listen_command())\n",
    "print('Command: '+ command) \n",
    "process_command(command)"
   ]
  },
  {
   "cell_type": "code",
   "execution_count": 32,
   "metadata": {},
   "outputs": [],
   "source": [
    "idle = 1000\n",
    "def listen(wake_word, t_wait=idle):\n",
    "    waiting = True\n",
    "    start = time.time()\n",
    "    \n",
    "    while waiting and time.time()-start < t_wait:\n",
    "        words = str(listen_command(15000, 1)).split(' ')\n",
    "        if wake_word in words:\n",
    "            waiting = False\n",
    "    \n",
    "    return True"
   ]
  },
  {
   "cell_type": "code",
   "execution_count": 15,
   "metadata": {},
   "outputs": [
    {
     "name": "stdout",
     "output_type": "stream",
     "text": [
      "Listening...\n",
      "Listening...\n",
      "True\n"
     ]
    }
   ],
   "source": [
    "print(listen('hello'))"
   ]
  },
  {
   "cell_type": "code",
   "execution_count": 35,
   "metadata": {},
   "outputs": [],
   "source": [
    "def activate(wake_word, instruction_book, ingredient_book):\n",
    "    active = listen(wake_word)\n",
    "    engine = pyttsx3.init()\n",
    "    \n",
    "    #machine need to tell user what to do\n",
    "    welcome = 'what is up'\n",
    "    engine.say(welcome)\n",
    "    engine.runAndWait()\n",
    "    \n",
    "    #in\n",
    "    recipe_id = ''\n",
    "    ingredient_itr = 0\n",
    "    instruction_itr = 0\n",
    "\n",
    "    while active:\n",
    "        command = str(listen_command())\n",
    "        print('Command: '+ command)\n",
    "        action, ident = process_command(command)\n",
    "        if action == 1:\n",
    "            if ident == '':\n",
    "                engine.say('expected recipe name right after recipe word')\n",
    "                engine.runAndWait()\n",
    "                break;\n",
    "            \n",
    "            recipe_id = ident\n",
    "            instructions = instruction_book[ident]\n",
    "            ingredients = ingredient_book[ident]\n",
    "\n",
    "            #speak the ingredients\n",
    "            key = ingredients.keys()[0]\n",
    "            engine.say(key+','+ingredient[key])\n",
    "            engine.runAndWait()\n",
    "\n",
    "            #speak the first instruction\n",
    "            \n",
    "            \n",
    "        elif action == 2:\n",
    "            if ingredient_itr < len(ingredients.keys()):\n",
    "                key = ingredients.keys()[ingredient_itr]\n",
    "                ingredient_itr += 1\n",
    "\n",
    "                engine.say(key+','+ingredient[key])\n",
    "                engine.runAndWait()\n",
    "            elif instruction_itr < len(instructions):\n",
    "                instruction_itr += 1\n",
    "\n",
    "                engine.say(instructions[instruction_itr])\n",
    "                engine.runAndWait()\n",
    "            else:\n",
    "                farewell = 'you done brother'\n",
    "                engine.say(farewell)\n",
    "                engine.runAndWait()\n",
    "                active = False\n",
    "\n",
    "            \n",
    "            \n",
    "        elif action == 3:\n",
    "            engine.say('Stopped')\n",
    "            engine.runAndWait()\n",
    "            if listen(wake_word):\n",
    "                engine.say('I am back')\n",
    "                engine.runAndWait()\n",
    "            \n",
    "\n",
    "        elif action == 4: \n",
    "            if ingredient_itr < len(ingredients.keys())+1:\n",
    "                key = ingredients.keys()[ingredient_itr-1]\n",
    "                engine.say(key+','+ingredient[key])\n",
    "                engine.runAndWait()\n",
    "\n",
    "            else:\n",
    "                engine.say(instructions[instruction_itr-1])\n",
    "                engine.runAndWait()\n",
    "            \n",
    "\n",
    "        elif action == 5: \n",
    "            if ident == '':\n",
    "                engine.say('expected recipe name right after recipe word')\n",
    "                engine.runAndWait()\n",
    "                break;\n",
    "            \n",
    "            key = ident\n",
    "            engine.say(key+','+ingredient[key])\n",
    "            engine.runAndWait()\n",
    "            \n",
    "\n",
    "        elif action == 6:\n",
    "            \n",
    "            confused = 'I do not understand'\n",
    "            engine.say(confused)\n",
    "            engine.runAndWait()\n",
    "            \n",
    "            \n",
    "\n",
    "        "
   ]
  },
  {
   "cell_type": "code",
   "execution_count": 36,
   "metadata": {},
   "outputs": [
    {
     "name": "stdout",
     "output_type": "stream",
     "text": [
      "Listening...\n",
      "Listening...\n",
      "Command: mead recipe apple\n",
      "Listening...\n",
      "Command: read recipe apple\n"
     ]
    },
    {
     "ename": "TypeError",
     "evalue": "'dict_keys' object does not support indexing",
     "output_type": "error",
     "traceback": [
      "\u001b[0;31m---------------------------------------------------------------------------\u001b[0m",
      "\u001b[0;31mTypeError\u001b[0m                                 Traceback (most recent call last)",
      "\u001b[0;32m<ipython-input-36-254862359a9e>\u001b[0m in \u001b[0;36m<module>\u001b[0;34m()\u001b[0m\n\u001b[1;32m      1\u001b[0m \u001b[0minstruction_book\u001b[0m \u001b[0;34m=\u001b[0m \u001b[0;34m{\u001b[0m\u001b[0;34m'apple'\u001b[0m\u001b[0;34m:\u001b[0m \u001b[0;34m[\u001b[0m\u001b[0;34m'first do this'\u001b[0m\u001b[0;34m,\u001b[0m \u001b[0;34m'pour the water'\u001b[0m\u001b[0;34m,\u001b[0m \u001b[0;34m'lift the handle'\u001b[0m\u001b[0;34m,\u001b[0m \u001b[0;34m'stir'\u001b[0m\u001b[0;34m]\u001b[0m\u001b[0;34m}\u001b[0m\u001b[0;34m\u001b[0m\u001b[0;34m\u001b[0m\u001b[0m\n\u001b[1;32m      2\u001b[0m \u001b[0mingredient_book\u001b[0m \u001b[0;34m=\u001b[0m \u001b[0;34m{\u001b[0m\u001b[0;34m'apple'\u001b[0m\u001b[0;34m:\u001b[0m \u001b[0;34m{\u001b[0m\u001b[0;34m'eggs'\u001b[0m\u001b[0;34m:\u001b[0m \u001b[0;34m'1'\u001b[0m\u001b[0;34m,\u001b[0m \u001b[0;34m'beans'\u001b[0m\u001b[0;34m:\u001b[0m \u001b[0;34m'2 pounds'\u001b[0m\u001b[0;34m,\u001b[0m \u001b[0;34m'jello'\u001b[0m\u001b[0;34m:\u001b[0m \u001b[0;34m'1 packet'\u001b[0m\u001b[0;34m}\u001b[0m\u001b[0;34m}\u001b[0m\u001b[0;34m\u001b[0m\u001b[0;34m\u001b[0m\u001b[0m\n\u001b[0;32m----> 3\u001b[0;31m \u001b[0mactivate\u001b[0m\u001b[0;34m(\u001b[0m\u001b[0;34m'hello'\u001b[0m\u001b[0;34m,\u001b[0m \u001b[0minstruction_book\u001b[0m\u001b[0;34m,\u001b[0m \u001b[0mingredient_book\u001b[0m\u001b[0;34m)\u001b[0m\u001b[0;34m\u001b[0m\u001b[0;34m\u001b[0m\u001b[0m\n\u001b[0m",
      "\u001b[0;32m<ipython-input-35-90064fc0ad5e>\u001b[0m in \u001b[0;36mactivate\u001b[0;34m(wake_word, instruction_book, ingredient_book)\u001b[0m\n\u001b[1;32m     28\u001b[0m \u001b[0;34m\u001b[0m\u001b[0m\n\u001b[1;32m     29\u001b[0m             \u001b[0;31m#speak the ingredients\u001b[0m\u001b[0;34m\u001b[0m\u001b[0;34m\u001b[0m\u001b[0;34m\u001b[0m\u001b[0m\n\u001b[0;32m---> 30\u001b[0;31m             \u001b[0mkey\u001b[0m \u001b[0;34m=\u001b[0m \u001b[0mingredients\u001b[0m\u001b[0;34m.\u001b[0m\u001b[0mkeys\u001b[0m\u001b[0;34m(\u001b[0m\u001b[0;34m)\u001b[0m\u001b[0;34m[\u001b[0m\u001b[0;36m0\u001b[0m\u001b[0;34m]\u001b[0m\u001b[0;34m\u001b[0m\u001b[0;34m\u001b[0m\u001b[0m\n\u001b[0m\u001b[1;32m     31\u001b[0m             \u001b[0mengine\u001b[0m\u001b[0;34m.\u001b[0m\u001b[0msay\u001b[0m\u001b[0;34m(\u001b[0m\u001b[0mkey\u001b[0m\u001b[0;34m+\u001b[0m\u001b[0;34m','\u001b[0m\u001b[0;34m+\u001b[0m\u001b[0mingredient\u001b[0m\u001b[0;34m[\u001b[0m\u001b[0mkey\u001b[0m\u001b[0;34m]\u001b[0m\u001b[0;34m)\u001b[0m\u001b[0;34m\u001b[0m\u001b[0;34m\u001b[0m\u001b[0m\n\u001b[1;32m     32\u001b[0m             \u001b[0mengine\u001b[0m\u001b[0;34m.\u001b[0m\u001b[0mrunAndWait\u001b[0m\u001b[0;34m(\u001b[0m\u001b[0;34m)\u001b[0m\u001b[0;34m\u001b[0m\u001b[0;34m\u001b[0m\u001b[0m\n",
      "\u001b[0;31mTypeError\u001b[0m: 'dict_keys' object does not support indexing"
     ]
    }
   ],
   "source": [
    "instruction_book = {'apple': ['first do this', 'pour the water', 'lift the handle', 'stir']}\n",
    "ingredient_book = {'apple': {'eggs': '1', 'beans': '2 pounds', 'jello': '1 packet'}}\n",
    "activate('hello', instruction_book, ingredient_book)"
   ]
  },
  {
   "cell_type": "code",
   "execution_count": 37,
   "metadata": {},
   "outputs": [],
   "source": [
    "instruction_book = {'apple': ['first do this', 'pour the water', 'lift the handle', 'stir']}\n",
    "ingredient_book = {'apple': {'eggs': '1', 'beans': '2 pounds', 'jello': '1 packet'}}\n",
    "a = ingredient_book['apple']"
   ]
  },
  {
   "cell_type": "code",
   "execution_count": 43,
   "metadata": {},
   "outputs": [
    {
     "name": "stdout",
     "output_type": "stream",
     "text": [
      "dict_keys(['eggs', 'beans', 'jello'])\n"
     ]
    }
   ],
   "source": [
    "print(a.keys())"
   ]
  },
  {
   "cell_type": "code",
   "execution_count": null,
   "metadata": {},
   "outputs": [],
   "source": []
  }
 ],
 "metadata": {
  "kernelspec": {
   "display_name": "Python 3",
   "language": "python",
   "name": "python3"
  },
  "language_info": {
   "codemirror_mode": {
    "name": "ipython",
    "version": 3
   },
   "file_extension": ".py",
   "mimetype": "text/x-python",
   "name": "python",
   "nbconvert_exporter": "python",
   "pygments_lexer": "ipython3",
   "version": "3.6.8"
  }
 },
 "nbformat": 4,
 "nbformat_minor": 2
}
