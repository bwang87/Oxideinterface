{
 "cells": [
  {
   "cell_type": "code",
   "execution_count": 2,
   "metadata": {},
   "outputs": [],
   "source": [
    "import speech_recognition as sr\n",
    "\n",
    "# parameters for listening\n",
    "dB_threshold = 15000\n",
    "t_wait = 1    # in seconds\n",
    "\n",
    "\n",
    "def listen_command(threshold=dB_threshold, t_timeout=t_wait):\n",
    "    \"\"\" () -> str or False\n",
    "    Return the command the program listens. Return False if failed to listen/understand.\n",
    "    \"\"\"\n",
    "    r = sr.Recognizer()\n",
    "    r.dynamic_energy_threshold = threshold    # high threshold so that program only responds to large voice\n",
    "    print(\"Listening...\")\n",
    "    # starts listening once threshold reached -> stops listening when quiet\n",
    "    with sr.Microphone() as source:\n",
    "        audio = r.listen(source, timeout=t_timeout)\n",
    "    try:\n",
    "        return r.recognize_google(audio)\n",
    "    except sr.UnknownValueError or sr.RequestError:\n",
    "        return False"
   ]
  },
  {
   "cell_type": "code",
   "execution_count": 3,
   "metadata": {},
   "outputs": [],
   "source": [
    "import numpy as np\n",
    "\n",
    "def process_command(command):\n",
    "    words = np.array(command.split(' '))\n",
    "\n",
    "    ident = ''\n",
    "    action = 0\n",
    "    \n",
    "    if 'read' in words and 'recipe' in words:\n",
    "        #action 1 means read the recipe\n",
    "        action = 1\n",
    "        ind = np.where(words == 'recipe')[0]\n",
    "        if ind < len(words):\n",
    "            ident = words[ind+1][0]\n",
    "    elif 'read' in words and 'instruction' in words:\n",
    "        #action 2 means read the instruction\n",
    "        action = 2\n",
    "        ind = np.where(words == 'instruction')[0]\n",
    "        if ind < len(words):\n",
    "            ident = words[ind+1][0]\n",
    "    elif 'stop' in words:\n",
    "        #action 3 means stop\n",
    "        action = 3\n",
    "    elif 'repeat' in words:\n",
    "        #action 4 means repeat recipe or instruction\n",
    "        action = 4\n",
    "    else:\n",
    "        #action 5 means dont understand - help the user with instructions\n",
    "        action = 5\n",
    "    \n",
    "    \n",
    "    return action, ident"
   ]
  },
  {
   "cell_type": "code",
   "execution_count": 8,
   "metadata": {},
   "outputs": [
    {
     "name": "stdout",
     "output_type": "stream",
     "text": [
      "Listening...\n",
      "Command: read recipe 1\n"
     ]
    },
    {
     "data": {
      "text/plain": [
       "(1, '1')"
      ]
     },
     "execution_count": 8,
     "metadata": {},
     "output_type": "execute_result"
    }
   ],
   "source": [
    "command = str(listen_command())\n",
    "print('Command: '+ command) \n",
    "process_command(command)"
   ]
  },
  {
   "cell_type": "code",
   "execution_count": null,
   "metadata": {},
   "outputs": [],
   "source": []
  }
 ],
 "metadata": {
  "kernelspec": {
   "display_name": "Python 3",
   "language": "python",
   "name": "python3"
  },
  "language_info": {
   "codemirror_mode": {
    "name": "ipython",
    "version": 3
   },
   "file_extension": ".py",
   "mimetype": "text/x-python",
   "name": "python",
   "nbconvert_exporter": "python",
   "pygments_lexer": "ipython3",
   "version": "3.6.8"
  }
 },
 "nbformat": 4,
 "nbformat_minor": 2
}
